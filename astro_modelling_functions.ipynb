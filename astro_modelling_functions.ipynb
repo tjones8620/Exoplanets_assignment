{
 "cells": [
  {
   "cell_type": "code",
   "execution_count": 20,
   "metadata": {},
   "outputs": [],
   "source": [
    "import numpy as np"
   ]
  },
  {
   "cell_type": "code",
   "execution_count": 13,
   "metadata": {},
   "outputs": [],
   "source": [
    "def gaussian(x, mean, sigma, b, a):\n",
    "    \"\"\"\n",
    "    Gaussian function \n",
    "    \"\"\"\n",
    "    return a / (sigma * np.sqrt(2 * np.pi)) * np.exp(-0.5 * (x - mean)**2 / sigma**2) + b"
   ]
  },
  {
   "cell_type": "code",
   "execution_count": 14,
   "metadata": {},
   "outputs": [],
   "source": [
    "def cross_func(spectrum, spec_template):\n",
    "    \"\"\"\n",
    "    Performs cross correlation on an inputed spectrum\n",
    "    with respect to the spectral template and then \n",
    "    fits the data with a gaussian and outputs the mean\n",
    "    of the gaussian\n",
    "    \"\"\"\n",
    "\n",
    "    def correl_func(s, spec_template):\n",
    "        \"\"\"\n",
    "        Defining a function that performs the scipy.signal.correlate() function\n",
    "        \"\"\"\n",
    "        return correlate(s - s.mean(), spec_template - spec_template.mean(), mode = 'same')\n",
    "    \n",
    "    corr = correl_func(spectrum, spec_template)\n",
    "    \n",
    "    fit, var = curve_fit(gaussian, v, corr, p0 = [4000, 1000, 0, 1000])\n",
    "    mean, sigma, b, a = fit\n",
    "    return mean"
   ]
  },
  {
   "cell_type": "code",
   "execution_count": 15,
   "metadata": {},
   "outputs": [],
   "source": [
    "def transit_flux(t, T_0, a, p, i, f_oot):\n",
    "    \n",
    "    \"\"\"\n",
    "    - Takes in times t and parameters T_0, a, p, i, f_oot\n",
    "    - Times t are changed into phase phi\n",
    "    - x,y coordinates are defined\n",
    "    - z(t) is defined in terms of x, y and orbital inclination i\n",
    "    - k_0 and k_1 values are computed for each k\n",
    "    - Conditonal statements determine the value that is added to the flux array\n",
    "    - Function outputs this flux times f_oot\n",
    "    \"\"\"    \n",
    "    flux = np.ones(len(t_tran))     #defining array of length t to store flux values initialised at 1\n",
    "    \n",
    "    for j in range(len(t_tran)):\n",
    "   \n",
    "        phi = 2*np.pi/P * (t_tran[j] - T_0)  #converting each time to phase\n",
    "                \n",
    "        x, y = a * np.sin(phi), a * np.cos(phi)  #calculating orbital coordinates and appending x,y lists\n",
    "         \n",
    "        z_t = np.sqrt(x**2 + (np.cos(i) * y)**2)    #calculating z(t)\n",
    "        z = z_t\n",
    "    \n",
    "        k_0 = np.arccos((p**2 + z**2 - 1)/(2 * p * z))  #computing k0 and k1 values for each z\n",
    "        k_1 = np.arccos((1 - p**2 + z**2)/(2 * z))\n",
    "\n",
    "        #making conditions for flux\n",
    "        if z > 1 + p:\n",
    "            flux[j] = 1\n",
    "            \n",
    "        if z <= 1 - p:\n",
    "            flux[j] = (1 - p**2)\n",
    "            \n",
    "        if 1 - p < z <= 1 + p:  \n",
    "            flux[j] = 1 - 1/np.pi*(p**2*k_0 + k_1 - np.sqrt((4*z**2-(1+z**2-p**2)**2)/4))\n",
    "\n",
    "            \n",
    "    return f_oot * flux  #returning flux array multiplied by out-of-transit flux"
   ]
  },
  {
   "cell_type": "code",
   "execution_count": 16,
   "metadata": {},
   "outputs": [],
   "source": [
    "# def transit_flux(t, T_0, a, p, i, f_oot):\n",
    "    \n",
    "#     \"\"\"\n",
    "#     - Takes in times t and parameters T_0, a, p, i, f_oot\n",
    "#     - Times t are changed into phase phi\n",
    "#     - x,y coordinates are defined\n",
    "#     - z(t) is defined in terms of x, y and orbital inclination i\n",
    "#     - k_0 and k_1 values are computed for each k\n",
    "#     - Conditonal statements determine the value that is added to the flux array\n",
    "#     - Function outputs this flux times f_oot\n",
    "#     \"\"\"    \n",
    "#     flux = np.ones(len(t_tran))     #defining array of length t to store flux values initialised at 1\n",
    "    \n",
    "    \n",
    "#     phi = 2*np.pi/P * (t_tran[j] - T_0)  #converting each time to phase\n",
    "\n",
    "#     x, y = a * np.sin(phi), a * np.cos(phi)  #calculating orbital coordinates and appending x,y lists\n",
    "\n",
    "#     z_t = np.sqrt(x**2 + (np.cos(i) * y)**2)    #calculating z(t)\n",
    "#     z = z_t\n",
    "\n",
    "#     k_0 = np.arccos((p**2 + z**2 - 1)/(2 * p * z))  #computing k0 and k1 values for each z\n",
    "#     k_1 = np.arccos((1 - p**2 + z**2)/(2 * z))\n",
    "\n",
    "#     #making conditions for flux\n",
    "#     if z > 1 + p:\n",
    "#         flux[j] = 1\n",
    "\n",
    "#     if z <= 1 - p:\n",
    "#         flux[j] = (1 - p**2)\n",
    "\n",
    "#     if 1 - p < z <= 1 + p:  \n",
    "#         flux[j] = 1 - 1/np.pi*(p**2*k_0 + k_1 - np.sqrt((4*z**2-(1+z**2-p**2)**2)/4))\n",
    "\n",
    "            \n",
    "#     return f_oot * flux  #returning flux array multiplied by out-of-transit flux"
   ]
  },
  {
   "cell_type": "code",
   "execution_count": 17,
   "metadata": {},
   "outputs": [],
   "source": [
    "#defining sine function that can be used to fit sinusoidal data\n",
    "def sin_fit(x, K, d):\n",
    "    \"\"\"\n",
    "    Function for plotting sinusoidal curves\n",
    "    \n",
    "    b is given by 2pi/period; period is given\n",
    "    at the start of this question in this question \n",
    "    so use this rather than fitting b as a parameter\n",
    "    \n",
    "    c is the phase difference. Can make use of \n",
    "    central transit time parameter, T_0 found with \n",
    "    transit curve fit. This has to be alterred \n",
    "    slightly to take into account the difference \n",
    "    in the t = 0 time between the transit data and \n",
    "    the radial velocity data.\n",
    "    \"\"\"\n",
    "    \n",
    "    b = (2 * np.pi / P) \n",
    "    c = (((2*np.pi)/P)*(T_0+diff_in_time))\n",
    "\n",
    "    return K * np.sin(b * x - c)+d\n"
   ]
  },
  {
   "cell_type": "code",
   "execution_count": 18,
   "metadata": {},
   "outputs": [],
   "source": [
    "def residuals(y,f, x1, x2, x3, s=1):\n",
    "    \"\"\"\n",
    "    producing the residuals of data\n",
    "    with respect to the best fit\n",
    "    \"\"\"\n",
    "    return (y - f(x1,x2,x3))/s"
   ]
  },
  {
   "cell_type": "code",
   "execution_count": 19,
   "metadata": {},
   "outputs": [],
   "source": [
    "def gauss_error(A, x, dx, y, dy):\n",
    "    \"\"\"\n",
    "    Gauss' cumulitive error for \n",
    "    multiplying errors\n",
    "    \"\"\"\n",
    "    return (A * np.sqrt((dx/x)**2 + (dy/y)**2))"
   ]
  },
  {
   "cell_type": "code",
   "execution_count": null,
   "metadata": {},
   "outputs": [],
   "source": []
  }
 ],
 "metadata": {
  "kernelspec": {
   "display_name": "Python 3 (ipykernel)",
   "language": "python",
   "name": "python3"
  },
  "language_info": {
   "codemirror_mode": {
    "name": "ipython",
    "version": 3
   },
   "file_extension": ".py",
   "mimetype": "text/x-python",
   "name": "python",
   "nbconvert_exporter": "python",
   "pygments_lexer": "ipython3",
   "version": "3.10.2"
  }
 },
 "nbformat": 4,
 "nbformat_minor": 4
}
